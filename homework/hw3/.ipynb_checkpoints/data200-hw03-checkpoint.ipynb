{
 "cells": [
  {
   "cell_type": "markdown",
   "metadata": {},
   "source": [
    "# Data 200: Database Systems and Data Management for Data Analytics\n"
   ]
  },
  {
   "cell_type": "markdown",
   "metadata": {},
   "source": [
    "# Homework 3: Access Operations in Pandas\n",
    "\n",
    "\n",
    "<font color='red'>**Due Date and Time:** Feb 28 beginning of class </font>\n",
    "---\n",
    "Enter your name in the markdown cell below."
   ]
  },
  {
   "cell_type": "markdown",
   "metadata": {},
   "source": [
    "# Name:"
   ]
  },
  {
   "cell_type": "code",
   "execution_count": 157,
   "metadata": {},
   "outputs": [],
   "source": [
    "import numpy as np\n",
    "import pandas as pd"
   ]
  },
  {
   "cell_type": "markdown",
   "metadata": {},
   "source": [
    "# Tasks\n",
    "\n",
    "- Read pages 145-204 in the textbook.\n",
    "- Complete the **Transforming DataFrames** chapter of the **Data Manipulation with Pandas** course on DataCamp\n",
    "- Commit + push your completed Jupyter notebook + .md output."
   ]
  },
  {
   "cell_type": "markdown",
   "metadata": {},
   "source": [
    "# Exercises"
   ]
  },
  {
   "cell_type": "markdown",
   "metadata": {},
   "source": [
    "Run the code cell below that defines a dictionary of lists from a vet clinic."
   ]
  },
  {
   "cell_type": "code",
   "execution_count": 158,
   "metadata": {},
   "outputs": [],
   "source": [
    "data = {\n",
    "  'animal': ['cat','cat','snake','dog', 'dog','cat','snake','cat','dog','dog'],\n",
    "  'age': [2.5, 3, 0.5, 7, 5, 2, 4.5, 4, 7, 3],\n",
    "  'visits': [1, 3, 2, 3, 2, 3, 1, 1, 2, 1],\n",
    "  'priority': ['yes','yes','no','yes','no',\n",
    "  'no','no','yes','no', 'no']}"
   ]
  },
  {
   "cell_type": "markdown",
   "metadata": {},
   "source": [
    "<div class=\"exercise\"><b>Exercise 1</b></div> \n",
    "\n",
    "- Create a `pd.Index` called `row_names` that can be used to specify the row names of a dataframe, and set <code>name=`pet_names`</code>\n",
    "- Create a dataframe called `vetInfo` from the dictionary `data` and assign the row labels to be `row_names`\n",
    "- Print the dataframe.\n",
    "    \n",
    "The output from my solution is as follows: <br>\n",
    "\n",
    "<code>\n",
    "         animal  age  visits priority\n",
    "names                                \n",
    "Maisey      cat  2.5       1      yes\n",
    "Finny       cat  3.0       3      yes\n",
    "Slithery  snake  0.5       2       no\n",
    "Fluffy      dog  7.0       3      yes\n",
    "Rex         dog  5.0       2       no\n",
    "Tucker      cat  2.0       3       no\n",
    "Snakey    snake  4.5       1       no\n",
    "Mason       cat  4.0       1      yes\n",
    "Lou Lou     dog  7.0       2       no\n",
    "Snoopy      dog  3.0       1       no</code>"
   ]
  },
  {
   "cell_type": "code",
   "execution_count": 159,
   "metadata": {
    "scrolled": true
   },
   "outputs": [
    {
     "name": "stdout",
     "output_type": "stream",
     "text": [
      "         animal  age  visits priority\n",
      "names                                \n",
      "Maisey      cat  2.5       1      yes\n",
      "Finny       cat  3.0       3      yes\n",
      "Slithery  snake  0.5       2       no\n",
      "Fluffy      dog  7.0       3      yes\n",
      "Rex         dog  5.0       2       no\n",
      "Tucker      cat  2.0       3       no\n",
      "Snakey    snake  4.5       1       no\n",
      "Mason       cat  4.0       1      yes\n",
      "Lou Lou     dog  7.0       2       no\n",
      "Snoopy      dog  3.0       1       no\n"
     ]
    }
   ],
   "source": [
    "pet_names = ['Maisey', 'Finny', 'Slithery', 'Fluffy', 'Rex', 'Tucker', 'Snakey', \n",
    "             'Mason', 'Lou Lou', 'Snoopy']\n",
    "row_names=pd.Index(pet_names,name=\"names\")\n",
    "#create index\n",
    "vetInfo=pd.DataFrame(data, index=row_names)\n",
    "#turn data into a dataframe with row_names as the index\n",
    "print(vetInfo)"
   ]
  },
  {
   "cell_type": "markdown",
   "metadata": {},
   "source": [
    "<div class=\"exercise\"><b>Exercise 2</b></div> \n",
    "\n",
    "Write Python code to select and print the following:\n",
    "\n",
    "a) The data in rows with indices 2, 3, and 4<br>\n",
    "b) The data in columns `animal` and `age`<br>\n",
    "\n",
    "The output from my solution is:<br>\n",
    "\n",
    "<code>\n",
    "         animal  age  visits priority\n",
    "names                                \n",
    "Slithery  snake  0.5       2       no\n",
    "Fluffy      dog  7.0       3      yes\n",
    "Rex         dog  5.0       2       no\n",
    "</code><code>\n",
    "         animal  age\n",
    "names               \n",
    "Maisey      cat  2.5\n",
    "Finny       cat  3.0\n",
    "Slithery  snake  0.5\n",
    "Fluffy      dog  7.0\n",
    "Rex         dog  5.0\n",
    "Tucker      cat  2.0\n",
    "Snakey    snake  4.5\n",
    "Mason       cat  4.0\n",
    "Lou Lou     dog  7.0\n",
    "Snoopy      dog  3.0</code>"
   ]
  },
  {
   "cell_type": "code",
   "execution_count": 160,
   "metadata": {},
   "outputs": [
    {
     "name": "stdout",
     "output_type": "stream",
     "text": [
      "         animal  age  visits priority\n",
      "names                                \n",
      "Slithery  snake  0.5       2       no\n",
      "Fluffy      dog  7.0       3      yes\n",
      "Rex         dog  5.0       2       no\n",
      "         animal  age\n",
      "names               \n",
      "Maisey      cat  2.5\n",
      "Finny       cat  3.0\n",
      "Slithery  snake  0.5\n",
      "Fluffy      dog  7.0\n",
      "Rex         dog  5.0\n",
      "Tucker      cat  2.0\n",
      "Snakey    snake  4.5\n",
      "Mason       cat  4.0\n",
      "Lou Lou     dog  7.0\n",
      "Snoopy      dog  3.0\n"
     ]
    }
   ],
   "source": [
    "print(vetInfo[2:5])\n",
    "#returns data from rows 2-4\n",
    "\n",
    "print(vetInfo[['animal','age']])\n",
    "#returns data from animal and age columns"
   ]
  },
  {
   "cell_type": "markdown",
   "metadata": {},
   "source": [
    "<div class=\"exercise\"><b>Exercise 3</b></div> \n",
    "\n",
    "Use `iloc` to select the following:<br>\n",
    "\n",
    "a) The rows with indices 2, 3, and 4<br>\n",
    "b) The rows with indices 0, 1, and 2 for columns with indices 0, 2, and 3<br>\n",
    "\n",
    "The output from my solution is:<br>\n",
    "\n",
    "<code>\n",
    "         animal  age  visits priority\n",
    "names                                \n",
    "Slithery  snake  0.5       2       no\n",
    "Fluffy      dog  7.0       3      yes\n",
    "Rex         dog  5.0       2       no\n",
    "</code><code>\n",
    "       animal  visits priority\n",
    "names                         \n",
    "Maisey    cat       1      yes\n",
    "Finny     cat       3      yes</code>"
   ]
  },
  {
   "cell_type": "code",
   "execution_count": 161,
   "metadata": {},
   "outputs": [
    {
     "name": "stdout",
     "output_type": "stream",
     "text": [
      "         animal  age  visits priority\n",
      "names                                \n",
      "Slithery  snake  0.5       2       no\n",
      "Fluffy      dog  7.0       3      yes\n",
      "Rex         dog  5.0       2       no\n",
      "       animal  visits priority\n",
      "names                         \n",
      "Maisey    cat       1      yes\n",
      "Finny     cat       3      yes\n"
     ]
    }
   ],
   "source": [
    "print(vetInfo.iloc[2:5])\n",
    "#returns data from rows 2-4\n",
    "print(vetInfo.iloc[0:2].drop(columns=[\"age\"]))\n",
    "#returns data from rows 1-2 without age column"
   ]
  },
  {
   "cell_type": "markdown",
   "metadata": {},
   "source": [
    "<div class=\"exercise\"><b>Exercise 4</b></div> \n",
    "\n",
    "Use `loc` to select the following:<br>\n",
    "\n",
    "a) The rows with labels `Maisey`, `Finny`, and `Snoopy`<br>\n",
    "b) The rows with labels `Slithery` and `Snakey` for columns `age` and `visits`<br>\n",
    "\n",
    "The output from my solution is:<br>\n",
    "\n",
    "<code>\n",
    "       animal  age  visits priority\n",
    "names                              \n",
    "Maisey    cat  2.5       1      yes\n",
    "Finny     cat  3.0       3      yes\n",
    "Snoopy    dog  3.0       1       no\n",
    "</code><code>\n",
    "          age  visits\n",
    "names                \n",
    "Slithery  0.5       2\n",
    "Snakey    4.5       1</code>"
   ]
  },
  {
   "cell_type": "code",
   "execution_count": 162,
   "metadata": {},
   "outputs": [
    {
     "name": "stdout",
     "output_type": "stream",
     "text": [
      "       animal  age  visits priority\n",
      "names                              \n",
      "Maisey    cat  2.5       1      yes\n",
      "Finny     cat  3.0       3      yes\n",
      "Snoopy    dog  3.0       1       no\n",
      "          age  visits\n",
      "names                \n",
      "Slithery  0.5       2\n",
      "Snakey    4.5       1\n"
     ]
    }
   ],
   "source": [
    "print(vetInfo.loc[['Maisey','Finny','Snoopy']])\n",
    "#locates data for three specific animals\n",
    "print(vetInfo.loc[['Slithery','Snakey'],['age','visits']])\n",
    "#locates age and visit data for two specific animals"
   ]
  },
  {
   "cell_type": "markdown",
   "metadata": {},
   "source": [
    "<div class=\"exercise\"><b>Exercise 4</b></div> \n",
    "\n",
    "Print only the rows where `age` is greater than 3.\n",
    "\n",
    "The output from my solution is:<br>\n",
    "\n",
    "<code>\n",
    "        animal  age  visits priority\n",
    "names                               \n",
    "Fluffy     dog  7.0       3      yes\n",
    "Rex        dog  5.0       2       no\n",
    "Snakey   snake  4.5       1       no\n",
    "Mason      cat  4.0       1      yes\n",
    "Lou Lou    dog  7.0       2       no</code>"
   ]
  },
  {
   "cell_type": "code",
   "execution_count": 163,
   "metadata": {},
   "outputs": [
    {
     "name": "stdout",
     "output_type": "stream",
     "text": [
      "        animal  age  visits priority\n",
      "names                               \n",
      "Fluffy     dog  7.0       3      yes\n",
      "Rex        dog  5.0       2       no\n",
      "Snakey   snake  4.5       1       no\n",
      "Mason      cat  4.0       1      yes\n",
      "Lou Lou    dog  7.0       2       no\n"
     ]
    }
   ],
   "source": [
    "print(vetInfo[vetInfo['age']>3.0])\n",
    "#returns data for animals whose age is greater than 3.0"
   ]
  },
  {
   "cell_type": "markdown",
   "metadata": {},
   "source": [
    "<div class=\"exercise\"><b>Exercise 5</b></div> \n",
    "\n",
    "Print:\n",
    "\n",
    "a) The rows where `priority` is `yes`.<br>\n",
    "b) The rows where `priority` is `yes` and the `age` is greater than 3.<br>\n",
    "c) The rows where `priority` is `yes`, but only for columns `animal` and `visits` (use `loc`).\n",
    "\n",
    "The output from my solution is:<br>\n",
    "\n",
    "<code>\n",
    "       animal  age  visits priority\n",
    "names                              \n",
    "Maisey    cat  2.5       1      yes\n",
    "Finny     cat  3.0       3      yes\n",
    "Fluffy    dog  7.0       3      yes\n",
    "Mason     cat  4.0       1      yes\n",
    "</code><code>\n",
    "       animal  age  visits priority\n",
    "names                              \n",
    "Fluffy    dog  7.0       3      yes\n",
    "Mason     cat  4.0       1      yes\n",
    "</code><code>\n",
    "       animal  visits\n",
    "names                \n",
    "Maisey    cat       1\n",
    "Finny     cat       3\n",
    "Fluffy    dog       3\n",
    "Mason     cat       1</code>"
   ]
  },
  {
   "cell_type": "code",
   "execution_count": 164,
   "metadata": {},
   "outputs": [
    {
     "name": "stdout",
     "output_type": "stream",
     "text": [
      "       animal  age  visits priority\n",
      "names                              \n",
      "Maisey    cat  2.5       1      yes\n",
      "Finny     cat  3.0       3      yes\n",
      "Fluffy    dog  7.0       3      yes\n",
      "Mason     cat  4.0       1      yes\n",
      "       animal  age  visits priority\n",
      "names                              \n",
      "Fluffy    dog  7.0       3      yes\n",
      "Mason     cat  4.0       1      yes\n",
      "       animal  visits\n",
      "names                \n",
      "Maisey    cat       1\n",
      "Finny     cat       3\n",
      "Fluffy    dog       3\n",
      "Mason     cat       1\n"
     ]
    }
   ],
   "source": [
    "print(vetInfo[vetInfo['priority']=='yes'])\n",
    "#priority is yes\n",
    "print(vetInfo[(vetInfo['priority']=='yes')&(vetInfo['age']>3.0)])\n",
    "#priority is yes and age is greater than 3.0\n",
    "print(vetInfo.loc[(vetInfo['priority']=='yes'),['animal','visits']])\n",
    "#priority is yes, animal and visits columns are shown"
   ]
  },
  {
   "cell_type": "markdown",
   "metadata": {},
   "source": [
    "<div class=\"exercise\"><b>Exercise 6</b></div> \n",
    "\n",
    "Add a column `age_visit` which, for each row, is the age of the animal divided by the number of visits for the animal.  Print the updated dataframe.\n",
    "\n",
    "The output from my solution is:<br>\n",
    "<code>\n",
    "         animal  age  visits priority  age_visit\n",
    "names                                           \n",
    "Maisey      cat  2.5       1      yes   2.500000\n",
    "Finny       cat  3.0       3      yes   1.000000\n",
    "Slithery  snake  0.5       2       no   0.250000\n",
    "Fluffy      dog  7.0       3      yes   2.333333\n",
    "Rex         dog  5.0       2       no   2.500000\n",
    "Tucker      cat  2.0       3       no   0.666667\n",
    "Snakey    snake  4.5       1       no   4.500000\n",
    "Mason       cat  4.0       1      yes   4.000000\n",
    "Lou Lou     dog  7.0       2       no   3.500000\n",
    "Snoopy      dog  3.0       1       no   3.000000</code>"
   ]
  },
  {
   "cell_type": "code",
   "execution_count": 165,
   "metadata": {},
   "outputs": [
    {
     "name": "stdout",
     "output_type": "stream",
     "text": [
      "         animal  age  visits priority  age_visit\n",
      "names                                           \n",
      "Maisey      cat  2.5       1      yes   2.500000\n",
      "Finny       cat  3.0       3      yes   1.000000\n",
      "Slithery  snake  0.5       2       no   0.250000\n",
      "Fluffy      dog  7.0       3      yes   2.333333\n",
      "Rex         dog  5.0       2       no   2.500000\n",
      "Tucker      cat  2.0       3       no   0.666667\n",
      "Snakey    snake  4.5       1       no   4.500000\n",
      "Mason       cat  4.0       1      yes   4.000000\n",
      "Lou Lou     dog  7.0       2       no   3.500000\n",
      "Snoopy      dog  3.0       1       no   3.000000\n"
     ]
    }
   ],
   "source": [
    "vetInfo['age_visit']=vetInfo['age']/vetInfo['visits']\n",
    "#add new column named age_visit, which calculates the age of the animal at the time of the visit\n",
    "print(vetInfo)"
   ]
  },
  {
   "cell_type": "markdown",
   "metadata": {},
   "source": [
    "<div class=\"exercise\"><b>Exercise 7</b></div> \n",
    "\n",
    "Compute and print the mean age of the animals.\n",
    "\n",
    "The output from my solution is:<br>\n",
    "<code>\n",
    "The average age of the animals is 3.85</code>"
   ]
  },
  {
   "cell_type": "code",
   "execution_count": 166,
   "metadata": {},
   "outputs": [
    {
     "name": "stdout",
     "output_type": "stream",
     "text": [
      "The average age of the animals is 3.85\n"
     ]
    }
   ],
   "source": [
    "print('The average age of the animals is '+str(float(vetInfo.agg({'age':'mean'}))))"
   ]
  },
  {
   "cell_type": "markdown",
   "metadata": {},
   "source": [
    "<div class=\"exercise\"><b>Exercise 8</b></div> \n",
    "\n",
    "Use the `isin(.)` function to print the rows corresponding to just dogs and cats.\n",
    "The output from my solution is:<br>\n",
    "<code>\n",
    "        animal  age  visits priority  age_visit\n",
    "names                                          \n",
    "Maisey     cat  2.5       1      yes   2.500000\n",
    "Finny      cat  3.0       3      yes   1.000000\n",
    "Fluffy     dog  7.0       3      yes   2.333333\n",
    "Rex        dog  5.0       2       no   2.500000\n",
    "Tucker     cat  2.0       3       no   0.666667\n",
    "Mason      cat  4.0       1      yes   4.000000\n",
    "Lou Lou    dog  7.0       2       no   3.500000\n",
    "Snoopy     dog  3.0       1       no   3.000000</code>"
   ]
  },
  {
   "cell_type": "code",
   "execution_count": 167,
   "metadata": {},
   "outputs": [
    {
     "name": "stdout",
     "output_type": "stream",
     "text": [
      "        animal  age  visits priority  age_visit\n",
      "names                                          \n",
      "Maisey     cat  2.5       1      yes   2.500000\n",
      "Finny      cat  3.0       3      yes   1.000000\n",
      "Fluffy     dog  7.0       3      yes   2.333333\n",
      "Rex        dog  5.0       2       no   2.500000\n",
      "Tucker     cat  2.0       3       no   0.666667\n",
      "Mason      cat  4.0       1      yes   4.000000\n",
      "Lou Lou    dog  7.0       2       no   3.500000\n",
      "Snoopy     dog  3.0       1       no   3.000000\n"
     ]
    }
   ],
   "source": [
    "print(vetInfo[vetInfo['animal'].isin(['cat','dog'])])\n",
    "#returns dogs and cats"
   ]
  },
  {
   "cell_type": "markdown",
   "metadata": {},
   "source": [
    "<div class=\"exercise\"><b>Exercise 9</b></div> \n",
    "\n",
    "Write Python code to:<br>\n",
    "\n",
    "a) Import the `MotorTrend.csv` file as a dataframe.<br>\n",
    "b) Print the shape of the dataframe.<br>\n",
    "c) Print the first five rows of the dataframe (using the `head()` method).<br>\n",
    "\n",
    "The output from my solution is:<br>\n",
    "<code>\n",
    "The shape of the dataframe is (32, 12)\n",
    "                Name   mpg  cyl   disp   hp  drat     wt   qsec  vs  am  gear  \\\n",
    "0          Mazda RX4  21.0    6  160.0  110  3.90  2.620  16.46   0   1     4   \n",
    "1      Mazda RX4 Wag  21.0    6  160.0  110  3.90  2.875  17.02   0   1     4   \n",
    "2         Datsun 710  22.8    4  108.0   93  3.85  2.320  18.61   1   1     4   \n",
    "3     Hornet 4 Drive  21.4    6  258.0  110  3.08  3.215  19.44   1   0     3   \n",
    "4  Hornet Sportabout  18.7    8  360.0  175  3.15  3.440  17.02   0   0     3   \n",
    "</code><code>\n",
    "   carb  \n",
    "0     4  \n",
    "1     4  \n",
    "2     1  \n",
    "3     1  \n",
    "4     2 </code>\n"
   ]
  },
  {
   "cell_type": "code",
   "execution_count": 168,
   "metadata": {},
   "outputs": [
    {
     "name": "stdout",
     "output_type": "stream",
     "text": [
      "The shape of the dataframe is (32, 12)\n",
      "                Name   mpg  cyl   disp   hp  drat     wt   qsec  vs      am  \\\n",
      "0          Mazda RX4  21.0    6  160.0  110  3.90  2.620  16.46   0  manual   \n",
      "1      Mazda RX4 Wag  21.0    6  160.0  110  3.90  2.875  17.02   0  manual   \n",
      "2         Datsun 710  22.8    4  108.0   93  3.85  2.320  18.61   1  manual   \n",
      "3     Hornet 4 Drive  21.4    6  258.0  110  3.08  3.215  19.44   1    auto   \n",
      "4  Hornet Sportabout  18.7    8  360.0  175  3.15  3.440  17.02   0    auto   \n",
      "\n",
      "   gear  carb  \n",
      "0     4     4  \n",
      "1     4     4  \n",
      "2     4     1  \n",
      "3     3     1  \n",
      "4     3     2  \n"
     ]
    }
   ],
   "source": [
    "cars=pd.read_csv('/Users/maiavachon/Documents/GitHub/Data200_Spring23/data/MotorTrend.csv')\n",
    "print('The shape of the dataframe is '+ str(cars.shape))\n",
    "print(cars.head())"
   ]
  },
  {
   "cell_type": "markdown",
   "metadata": {},
   "source": [
    "<div class=\"exercise\"><b>Exercise 10</b></div> \n",
    "\n",
    "Use the `describe()` function to print the summary statistics, but just for columns `mpg` and `hp`.\n",
    "\n",
    "The output from my solution is:<br>\n",
    "<code>\n",
    "             mpg          hp\n",
    "count  32.000000   32.000000\n",
    "mean   20.090625  146.687500\n",
    "std     6.026948   68.562868\n",
    "min    10.400000   52.000000\n",
    "25%    15.425000   96.500000\n",
    "50%    19.200000  123.000000\n",
    "75%    22.800000  180.000000\n",
    "max    33.900000  335.000000</code>"
   ]
  },
  {
   "cell_type": "code",
   "execution_count": 169,
   "metadata": {},
   "outputs": [
    {
     "name": "stdout",
     "output_type": "stream",
     "text": [
      "             mpg          hp\n",
      "count  32.000000   32.000000\n",
      "mean   20.090625  146.687500\n",
      "std     6.026948   68.562868\n",
      "min    10.400000   52.000000\n",
      "25%    15.425000   96.500000\n",
      "50%    19.200000  123.000000\n",
      "75%    22.800000  180.000000\n",
      "max    33.900000  335.000000\n"
     ]
    }
   ],
   "source": [
    "print(cars[['mpg','hp']].describe())"
   ]
  }
 ],
 "metadata": {
  "celltoolbar": "Raw Cell Format",
  "kernelspec": {
   "display_name": "Python 3 (ipykernel)",
   "language": "python",
   "name": "python3"
  },
  "language_info": {
   "codemirror_mode": {
    "name": "ipython",
    "version": 3
   },
   "file_extension": ".py",
   "mimetype": "text/x-python",
   "name": "python",
   "nbconvert_exporter": "python",
   "pygments_lexer": "ipython3",
   "version": "3.9.13"
  }
 },
 "nbformat": 4,
 "nbformat_minor": 2
}
